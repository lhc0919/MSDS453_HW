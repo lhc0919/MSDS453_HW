{
 "cells": [
  {
   "cell_type": "code",
   "execution_count": 1,
   "id": "d6a515c8",
   "metadata": {},
   "outputs": [],
   "source": [
    "import pandas as pd\n",
    "from io import StringIO\n",
    "from html.parser import HTMLParser"
   ]
  },
  {
   "cell_type": "code",
   "execution_count": 2,
   "id": "cf107eb8",
   "metadata": {},
   "outputs": [],
   "source": [
    "class MLStripper(HTMLParser):\n",
    "    def __init__(self):\n",
    "        super().__init__()\n",
    "        self.reset()\n",
    "        self.strict = False\n",
    "        self.convert_charrefs= True\n",
    "        self.text = StringIO()\n",
    "    def handle_data(self, d):\n",
    "        self.text.write(d)\n",
    "    def get_data(self):\n",
    "        return self.text.getvalue()\n",
    "\n",
    "def strip_tags(html):\n",
    "    s = MLStripper()\n",
    "    s.feed(html)\n",
    "    return s.get_data()"
   ]
  },
  {
   "cell_type": "code",
   "execution_count": 3,
   "id": "6b9dd7b3",
   "metadata": {},
   "outputs": [],
   "source": [
    "mr = []"
   ]
  },
  {
   "cell_type": "code",
   "execution_count": 4,
   "id": "d2b5c032",
   "metadata": {},
   "outputs": [
    {
     "name": "stdout",
     "output_type": "stream",
     "text": [
      "For those of you uninterested in a deep dive into the sophomore film by burgeoning auteur Jordan Peele, I’ll say this: “Us” hits all the horror buttons for fair-weather viewers looking for a spook or a creep, a twist, and a gasp. The wild-eyed visages of people matching in ruby jumpsuits gripping shimmering gold scissors are enough to scratch the itch for two hours of goosebumps running up you are stiffened back. Like “Get Out”, Peele’s 2017 directorial debut, \"Us\" has all the elements we expect from a modern horror film. Seemingly supernatural characters in ominous garb and freaky masks. A mysterious wall of bunnies trapped in wire cages. A chase. Kill or be killed. If you want to get your kicks, “Us” delivers. It’ll kick the crap out of you. Deeper than that, it is a multi-layered web, a deep-dive look at and social commentary on the current state of America – or perhaps where it’s always been. Like his first, this film, beneath its metaphors and allegories, has something to say. The Wilsons are your all-American family. Comprised of mom Adelaide (Lupita Nyong’o), dad Gabe (Winston Duke), daughter Zora (Shahadi Wright Joseph), and son Jason (Evan Alex), the Wilsons are heading out to their vacation home near Santa Cruz, a sleepy beach town up the California coast known for its laid-back surfer attitude and eccentric boardwalk filled with games and rides. Like “The Lost Boys”, Santa Cruz is the perfect setting for Peele to unleash his monsters. The Tethers live underground, exact replicas of their human counterparts above and forced to mirror their movements through life. As a child, Adelaide has a close run-in with her Tether, Red, in a Funhouse on the boardwalk, which also serves as a gateway to their lair. It haunts her into adulthood, and when weird coincidences begin to happen, she feels the onset of a bloody uprising, a revolution 30 years in the making. I won’t expand on the plot beyond that because the surprise is in the details, but suffice it to say Peele has a way with images. He isn’t afraid to linger for a minute – or more, in the case of the opening sequence – to build the mood. His leisure is our pleasure, in this case, and much of the runtime is spent analyzing what he chooses to show us. The cast has their work cut out for them. The dual-task of embodying both their human and Tether characters is physically and emotionally rigorous, but everyone shines, particularly our heroine/villain, played emphatically by Nyong’o. Her talent is profound in these roles, and, just like in the film, she is the heartbeat of the story. But what sets “Us” apart from others in the genre, and likewise Peele apart from his contemporaries is the voice that whispers a warning in every scene, a foreboding that follows you out of the theater and into your sleeping subconscious. The film makes a stark statement on the way we view what it means to be American. There is the commercial, sterilized misconception that Americans come together, and stand hand in hand (literally) in solidarity when the going gets tough. But underneath every American is a Tether, a soulless creature fighting to rip and claw to the top. If that doesn’t pique your interest, I’m not sure what will.\n",
      "557\n"
     ]
    }
   ],
   "source": [
    "html = strip_tags('For those of you uninterested in a deep dive into the sophomore film by burgeoning auteur Jordan Peele, I’ll say this: “Us” hits all the horror buttons for fair-weather viewers looking for a spook or a creep, a twist, and a gasp. The wild-eyed visages of people matching in ruby jumpsuits gripping shimmering gold scissors are enough to scratch the itch for two hours of goosebumps running up you are stiffened back. Like “Get Out”, Peele’s 2017 directorial debut, \"Us\" has all the elements we expect from a modern horror film. Seemingly supernatural characters in ominous garb and freaky masks. A mysterious wall of bunnies trapped in wire cages. A chase. Kill or be killed. If you want to get your kicks, “Us” delivers. It’ll kick the crap out of you. Deeper than that, it is a multi-layered web, a deep-dive look at and social commentary on the current state of America – or perhaps where it’s always been. Like his first, this film, beneath its metaphors and allegories, has something to say. The Wilsons are your all-American family. Comprised of mom Adelaide (Lupita Nyong’o), dad Gabe (Winston Duke), daughter Zora (Shahadi Wright Joseph), and son Jason (Evan Alex), the Wilsons are heading out to their vacation home near Santa Cruz, a sleepy beach town up the California coast known for its laid-back surfer attitude and eccentric boardwalk filled with games and rides. Like “The Lost Boys”, Santa Cruz is the perfect setting for Peele to unleash his monsters. The Tethers live underground, exact replicas of their human counterparts above and forced to mirror their movements through life. As a child, Adelaide has a close run-in with her Tether, Red, in a Funhouse on the boardwalk, which also serves as a gateway to their lair. It haunts her into adulthood, and when weird coincidences begin to happen, she feels the onset of a bloody uprising, a revolution 30 years in the making. I won’t expand on the plot beyond that because the surprise is in the details, but suffice it to say Peele has a way with images. He isn’t afraid to linger for a minute – or more, in the case of the opening sequence – to build the mood. His leisure is our pleasure, in this case, and much of the runtime is spent analyzing what he chooses to show us. The cast has their work cut out for them. The dual-task of embodying both their human and Tether characters is physically and emotionally rigorous, but everyone shines, particularly our heroine/villain, played emphatically by Nyong’o. Her talent is profound in these roles, and, just like in the film, she is the heartbeat of the story. But what sets “Us” apart from others in the genre, and likewise Peele apart from his contemporaries is the voice that whispers a warning in every scene, a foreboding that follows you out of the theater and into your sleeping subconscious. The film makes a stark statement on the way we view what it means to be American. There is the commercial, sterilized misconception that Americans come together, and stand hand in hand (literally) in solidarity when the going gets tough. But underneath every American is a Tether, a soulless creature fighting to rip and claw to the top. If that doesn’t pique your interest, I’m not sure what will.')\n",
    "r1 = html.strip()\n",
    "print(r1)\n",
    "word_list = r1.split()\n",
    "num_words = len(word_list)\n",
    "print(num_words)"
   ]
  },
  {
   "cell_type": "code",
   "execution_count": 5,
   "id": "2b8150bc",
   "metadata": {},
   "outputs": [
    {
     "name": "stdout",
     "output_type": "stream",
     "text": [
      "1\n"
     ]
    }
   ],
   "source": [
    "mr.append(r1)\n",
    "print(len(mr))"
   ]
  },
  {
   "cell_type": "code",
   "execution_count": 6,
   "id": "146f92b8",
   "metadata": {},
   "outputs": [
    {
     "name": "stdout",
     "output_type": "stream",
     "text": [
      "Lupita Nyong’o stars in Jordan Peele’s newest horror-thriller depicting a family’s chaos when a group of doppelgängers begins to terrorize them. Pam says:   “Us” starts off strong, but becomes a typical slasher film with gruesome brutality.  Thankfully, Peele’s sense of humor is a constant throughout the movie lightening these gory scenes.  Strong performances elevate the film, but Peele seems to focus too much on outdoing the last feature that he forgets to focus on the story at hand.  The plot twists don’t always add up and there are too many red herrings that create a sense of disappointment as Peele doesn’t follow through.  It’s a strong second feature, but doesn’t live up to the creativity and storytelling of “Get Out.” Chuck says:  Combining horror with humor is no easy feat and Peele does this with aplomb here as he did in “Get Out.”  It’s this film’s strongest suit as he expertly manipulates us to drop our guard only to have us lurching back in our seats throughout. The movie’s first two acts are very strong, setting up a sense of dread that promises a big payoff.  Unfortunately, it doesn’t come as the third act is overlong and the explanation for all that we’ve seen just doesn’t add up.  Without question, Peele has a great deal to say about the world we live in and gets some of his points across but in the end, “Us” ends up being a film that aspires to greatness but ultimately falls short. When Get Out was released in 2017, it became a phenomenon due, in large part, to writer and director Jordan Peele’s clever take on both horror movie tropes and racial issues. The success of that film put huge expectations on whatever he decided to do next, which just so happens to be another whirl in the horror-Esque zone with Us. The film centers on Adelaide Wilson (Lupita Nyong’o), who experienced trauma as a young girl that has haunted her into adulthood. She and her family – husband Gabe (Winston Duke), daughter Zora (Shahadi Wright Joseph), and son Jason (Evan Alex) – have returned to her childhood home in California for vacation, an ill-fated trip if ever there was one. That’s because, on their first night there, they’re confronted with a group of doppelgängers, four people who look exactly like them but whose mannerisms are completely different. The violent threat they demonstrate is just the tip of the iceberg in this perplexing film that offers both surface-level thrills and an obvious attempt at deeper-level thinking. Just like Get Out, Us is not a straightforward horror film. There are sections containing some intense and bloody scenes, but Peele is not interested in just making a slasher movie. He uses the character of Gabe to bring in a lot more humor this time around, and he also plays with the emotions of the four main characters, subverting expectations of “natural” reactions to traumatic situations. Peele’s vision is aided in a big way by cinematographer Mike Giolaukis and composer Michael Abels. The imagery of the film is stunning, with Peele and Giolaukis working together to produce some instantly iconic scenes. And the foreboding and highly memorable score by Abel enhances the film at every turn, especially when he uses a certain four-note sequence. The subliminal messaging that Peele employs will likely require two or more viewings to fully understand. He trots out a multitude of references and imagery that can be both easy and difficult to unpack. An allusion to a Bible verse about God bringing a disaster to Earth is simple enough, but the central idea of doppelgängers, along with imagery of rabbits and talk of consumerism, among other things, provides no easy answers. Thankfully, the confounding nature of the film’s symbolism does nothing to detract from the performances. Front and center are Nyong’o, who makes the most of her first starring role. She is heroic and ferocious as Adelaide, and creepy as hell as her double, Red. Duke is a lot of fun, giving a completely different look than his turn in Black Panther. And Joseph, ahead of her role as Young Nala in The Lion King, steals a lot of scenes with her dual parts. While imperfect, Peele and his team get enough right with Us to make it a worthy follow-up to Get Out. Combining popcorn thrills with thoughtful commentary is Peele’s calling card, something that should make him a director to watch for years to come.\n",
      "745\n",
      "2\n"
     ]
    }
   ],
   "source": [
    "# positive\n",
    "html = 'Lupita Nyong’o stars in Jordan Peele’s newest horror-thriller depicting a family’s chaos when a group of doppelgängers begins to terrorize them. Pam says:   “Us” starts off strong, but becomes a typical slasher film with gruesome brutality.  Thankfully, Peele’s sense of humor is a constant throughout the movie lightening these gory scenes.  Strong performances elevate the film, but Peele seems to focus too much on outdoing the last feature that he forgets to focus on the story at hand.  The plot twists don’t always add up and there are too many red herrings that create a sense of disappointment as Peele doesn’t follow through.  It’s a strong second feature, but doesn’t live up to the creativity and storytelling of “Get Out.” Chuck says:  Combining horror with humor is no easy feat and Peele does this with aplomb here as he did in “Get Out.”  It’s this film’s strongest suit as he expertly manipulates us to drop our guard only to have us lurching back in our seats throughout. The movie’s first two acts are very strong, setting up a sense of dread that promises a big payoff.  Unfortunately, it doesn’t come as the third act is overlong and the explanation for all that we’ve seen just doesn’t add up.  Without question, Peele has a great deal to say about the world we live in and gets some of his points across but in the end, “Us” ends up being a film that aspires to greatness but ultimately falls short. When Get Out was released in 2017, it became a phenomenon due, in large part, to writer and director Jordan Peele’s clever take on both horror movie tropes and racial issues. The success of that film put huge expectations on whatever he decided to do next, which just so happens to be another whirl in the horror-Esque zone with Us. The film centers on Adelaide Wilson (Lupita Nyong’o), who experienced trauma as a young girl that has haunted her into adulthood. She and her family – husband Gabe (Winston Duke), daughter Zora (Shahadi Wright Joseph), and son Jason (Evan Alex) – have returned to her childhood home in California for vacation, an ill-fated trip if ever there was one. That’s because, on their first night there, they’re confronted with a group of doppelgängers, four people who look exactly like them but whose mannerisms are completely different. The violent threat they demonstrate is just the tip of the iceberg in this perplexing film that offers both surface-level thrills and an obvious attempt at deeper-level thinking. Just like Get Out, Us is not a straightforward horror film. There are sections containing some intense and bloody scenes, but Peele is not interested in just making a slasher movie. He uses the character of Gabe to bring in a lot more humor this time around, and he also plays with the emotions of the four main characters, subverting expectations of “natural” reactions to traumatic situations. Peele’s vision is aided in a big way by cinematographer Mike Giolaukis and composer Michael Abels. The imagery of the film is stunning, with Peele and Giolaukis working together to produce some instantly iconic scenes. And the foreboding and highly memorable score by Abel enhances the film at every turn, especially when he uses a certain four-note sequence. The subliminal messaging that Peele employs will likely require two or more viewings to fully understand. He trots out a multitude of references and imagery that can be both easy and difficult to unpack. An allusion to a Bible verse about God bringing a disaster to Earth is simple enough, but the central idea of doppelgängers, along with imagery of rabbits and talk of consumerism, among other things, provides no easy answers. Thankfully, the confounding nature of the film’s symbolism does nothing to detract from the performances. Front and center are Nyong’o, who makes the most of her first starring role. She is heroic and ferocious as Adelaide, and creepy as hell as her double, Red. Duke is a lot of fun, giving a completely different look than his turn in Black Panther. And Joseph, ahead of her role as Young Nala in The Lion King, steals a lot of scenes with her dual parts. While imperfect, Peele and his team get enough right with Us to make it a worthy follow-up to Get Out. Combining popcorn thrills with thoughtful commentary is Peele’s calling card, something that should make him a director to watch for years to come.'\n",
    "r2 = html.strip()\n",
    "print(r2)\n",
    "word_list = r2.split()\n",
    "num_words = len(word_list)\n",
    "print(num_words)\n",
    "mr.append(r2)\n",
    "print(len(mr))"
   ]
  },
  {
   "cell_type": "code",
   "execution_count": 7,
   "id": "89d0981a",
   "metadata": {},
   "outputs": [
    {
     "name": "stdout",
     "output_type": "stream",
     "text": [
      "An idyllic vacation turns into a living nightmare when a family comes face to face with murderous versions of themselves. The highly anticipated follow-up from getting Out mastermind Jordan Peele delivers more of his now signature style but also flips a switch on something you’d never expect. His ability to create another flawless and compelling story truly cements him as a true Master of Horror. Adelaide Wilson (Lupita Nyong’o) and her husband Gabe (Winston Duke) travel to their family beach home with their two children, hoping for a relaxing time together. Adelaide isn’t too keen on the idea of the trip, especially spending the day at the beach with their insufferable friends (played by Tim Heidecker and Elisabeth Moss). Their trip will soon take a frightening turn as a creepy family stalks them from outside their home. However, it’s not just any family, but an exact copy of each of them. Adelaide will do whatever she can to save her loved ones from the demented doppelgänger hellbent on killing them off. While Get Out was boasted as a social thriller due to its apparent racial tones and overall theme, Us removes itself from that. Director and writer Jordan Peele stated that he wanted to make a film about a black family, simply just existing, without their race being the focus. The film does however have a subtle dissection of our county as a whole, but it’s much more subconscious – you’ll have to get a little philosophical with it. Peele also steps a bit outside of the psychological aspects of his previous film, and into a more gruesome concept. It’s a twisted story with a lot more chaos… and blood. But Peele wouldn’t be great at what he does if it weren’t for his ability to balance humor in there as well, timing things for levity that is just too perfect. Some of the most fun moments coming out of the impeccable musical cues (there’s an N.W.A “Fuck Tha Police” drop that is pure brilliance). What I appreciated most about this story, was the focus on the lead female character – a mother who can handle her own in a badass fashion. It was refreshing to see a family dynamic where the husband didn’t try to be the savior and instead trusted in her instincts. Nyong’o excelled in the role in every aspect, she was a force to watch. US brought to the screen a completely unique story that was constant fun, thrills, and beauty. Peele’s work is inspiring as he creates a perfect film with fantastic collaborators, like Michael Abels who creates a stellar score for our ears. It’s truly one of those films that is a must-see. With 2017’s breakout horror hit Get Out, Jordan Peele cemented himself as the writer/director to watch, his acerbic wit and mind for brilliant visual metaphors combining to make the world love smart, social horror once more—even while it’s telling us to look in the mirror. With his sophomore film Us, Peele once more raises the looking glass to our eyes, this time inviting us to pass through it and discover a netherworld we’ve long tried to ignore. Part home-invasion horror, part Twilight Zone mystery-thriller, Us follows Adelaide Wilson (a remarkable Lupita Nyong’o) as she returns to the seaside town where she suffered a traumatic event as a child. Soon after she and her husband Gabe (Winston Duke) arrive with their children Jason (Evan Alex) and Zora (Shahadi Wright Joseph), their summer home is besieged by vengeful, jumpsuit-wearing doppelgangers. Unfortunately, the film that follows is not as clear or incisive as Get Out—it introduces so many ideas that it can be difficult to focus. But it’s fascinating to watch those ideas emerge, contort and dance around on screen, even if they don’t always come together to form a cohesive story. Like its predecessor, Us makes you laugh and ruminate more than scream, but that’s certainly Peele’s point. When you’re not marveling at the acting abilities of Nyong’o, you’ll be spinning your wheels trying to put together a puzzle that can’t be solved. Watch it at Assembly Row, Boston Common, Coolidge Corner, Fenway, Seaport, Somerville, South Bay and in the suburbs.\n",
      "698\n",
      "3\n"
     ]
    }
   ],
   "source": [
    "# positive\n",
    "html = 'An idyllic vacation turns into a living nightmare when a family comes face to face with murderous versions of themselves. The highly anticipated follow-up from getting Out mastermind Jordan Peele delivers more of his now signature style but also flips a switch on something you’d never expect. His ability to create another flawless and compelling story truly cements him as a true Master of Horror. Adelaide Wilson (Lupita Nyong’o) and her husband Gabe (Winston Duke) travel to their family beach home with their two children, hoping for a relaxing time together. Adelaide isn’t too keen on the idea of the trip, especially spending the day at the beach with their insufferable friends (played by Tim Heidecker and Elisabeth Moss). Their trip will soon take a frightening turn as a creepy family stalks them from outside their home. However, it’s not just any family, but an exact copy of each of them. Adelaide will do whatever she can to save her loved ones from the demented doppelgänger hellbent on killing them off. While Get Out was boasted as a social thriller due to its apparent racial tones and overall theme, Us removes itself from that. Director and writer Jordan Peele stated that he wanted to make a film about a black family, simply just existing, without their race being the focus. The film does however have a subtle dissection of our county as a whole, but it’s much more subconscious – you’ll have to get a little philosophical with it. Peele also steps a bit outside of the psychological aspects of his previous film, and into a more gruesome concept. It’s a twisted story with a lot more chaos… and blood. But Peele wouldn’t be great at what he does if it weren’t for his ability to balance humor in there as well, timing things for levity that is just too perfect. Some of the most fun moments coming out of the impeccable musical cues (there’s an N.W.A “Fuck Tha Police” drop that is pure brilliance). What I appreciated most about this story, was the focus on the lead female character – a mother who can handle her own in a badass fashion. It was refreshing to see a family dynamic where the husband didn’t try to be the savior and instead trusted in her instincts. Nyong’o excelled in the role in every aspect, she was a force to watch. US brought to the screen a completely unique story that was constant fun, thrills, and beauty. Peele’s work is inspiring as he creates a perfect film with fantastic collaborators, like Michael Abels who creates a stellar score for our ears. It’s truly one of those films that is a must-see. With 2017’s breakout horror hit Get Out, Jordan Peele cemented himself as the writer/director to watch, his acerbic wit and mind for brilliant visual metaphors combining to make the world love smart, social horror once more—even while it’s telling us to look in the mirror. With his sophomore film Us, Peele once more raises the looking glass to our eyes, this time inviting us to pass through it and discover a netherworld we’ve long tried to ignore. Part home-invasion horror, part Twilight Zone mystery-thriller, Us follows Adelaide Wilson (a remarkable Lupita Nyong’o) as she returns to the seaside town where she suffered a traumatic event as a child. Soon after she and her husband Gabe (Winston Duke) arrive with their children Jason (Evan Alex) and Zora (Shahadi Wright Joseph), their summer home is besieged by vengeful, jumpsuit-wearing doppelgangers. Unfortunately, the film that follows is not as clear or incisive as Get Out—it introduces so many ideas that it can be difficult to focus. But it’s fascinating to watch those ideas emerge, contort and dance around on screen, even if they don’t always come together to form a cohesive story. Like its predecessor, Us makes you laugh and ruminate more than scream, but that’s certainly Peele’s point. When you’re not marveling at the acting abilities of Nyong’o, you’ll be spinning your wheels trying to put together a puzzle that can’t be solved. Watch it at Assembly Row, Boston Common, Coolidge Corner, Fenway, Seaport, Somerville, South Bay and in the suburbs. '\n",
    "r3 = html.strip()\n",
    "print(r3)\n",
    "word_list = r3.split()\n",
    "num_words = len(word_list)\n",
    "print(num_words)\n",
    "mr.append(r3)\n",
    "print(len(mr))"
   ]
  },
  {
   "cell_type": "code",
   "execution_count": 8,
   "id": "51a72a9f",
   "metadata": {},
   "outputs": [
    {
     "name": "stdout",
     "output_type": "stream",
     "text": [
      "We can probably all agree that looking at your phone or talking during a movie is rude. But something we don’t really think about and ought to recognize is that these are anxiety-reducing activities. That’s not an excuse, you still shouldn’t do it, but knowing this kept me from being surprised to see so many little screens lighting up and a group of people talking throughout a recent showing of Jordan Peele’s horror-thriller Us. I do NOT blame these people for needing to reduce their anxiety. In Us, Lupita Nyong’o plays the mother in a family of four on vacation at a beach house. One night, the family wakes up to find four shadowy figures standing in their driveway, and, not long after, this becomes a terrifying home invasion. Far more disturbing than even that is the fact that the mysterious invaders look essentially exactly like Nyong’o and her family, except that there is something very, drastically wrong with them. Beyond that, it’s best I don’t say, because you should know as little as possible going in. But I can say that between this and 2017’s Oscar-winning Get Out, Peele has shown himself to be an expert director of horror and suspense. He plays within the genre while avoiding clichés, his shot compositions are both beautiful and designed to make us uneasy, and he knows where to place a few well timed jokes so the extreme tension of the movie is maintained without making the whole thing feel oppressively punishing. Peele understands what scares us on a visceral level, and he knows it’s not just gore or silly surprises—often, what really scares us already lies within us. If Us contains a subtext of social commentary, it’s far less overt than it was in Get Out. In fact, I’ve read at least half a dozen reasonably compelling theories of what Peele is saying with this movie, including relating it to Jungian psychology, our current political climate, and seeing it as an indictment of Reagan-era social policies. I won’t tell you what I think, because part of the importance here is thinking through it yourself, but the movie is wide open to interpretation, and any one of the many theories could be true. Or, none of them could be true. Us works incredibly well just as a horror movie: it’s genuinely frightening and has images that will burn themselves into your brain. The movie’s not without its flaws—it’s not particularly internally consistent, and one twist was a bridge too far for me, but none of this detracts from the full experience, and besides, the best advice I got before heading to the theater was just not to think too hard about it. And though horror, as a genre, is shamefully overlooked when it comes to awards season, one exception for this movie may be Lupita Nyong’o, who has every chance at an Oscar nomination for Us. She’s extraordinary in her dual role as both the mother and her terrifying doppelganger, expressing resolve and vulnerability alongside searing homicidal anger and traumatic distress. Us is an intense, powerful, and unsettling ordeal that will not lead you by the hand to any conclusions, but will force you to take a very hard look at who we really are.\n",
      "543\n",
      "4\n"
     ]
    }
   ],
   "source": [
    "# positive\n",
    "html = 'We can probably all agree that looking at your phone or talking during a movie is rude. But something we don’t really think about and ought to recognize is that these are anxiety-reducing activities. That’s not an excuse, you still shouldn’t do it, but knowing this kept me from being surprised to see so many little screens lighting up and a group of people talking throughout a recent showing of Jordan Peele’s horror-thriller Us. I do NOT blame these people for needing to reduce their anxiety. In Us, Lupita Nyong’o plays the mother in a family of four on vacation at a beach house. One night, the family wakes up to find four shadowy figures standing in their driveway, and, not long after, this becomes a terrifying home invasion. Far more disturbing than even that is the fact that the mysterious invaders look essentially exactly like Nyong’o and her family, except that there is something very, drastically wrong with them. Beyond that, it’s best I don’t say, because you should know as little as possible going in. But I can say that between this and 2017’s Oscar-winning Get Out, Peele has shown himself to be an expert director of horror and suspense. He plays within the genre while avoiding clichés, his shot compositions are both beautiful and designed to make us uneasy, and he knows where to place a few well timed jokes so the extreme tension of the movie is maintained without making the whole thing feel oppressively punishing. Peele understands what scares us on a visceral level, and he knows it’s not just gore or silly surprises—often, what really scares us already lies within us. If Us contains a subtext of social commentary, it’s far less overt than it was in Get Out. In fact, I’ve read at least half a dozen reasonably compelling theories of what Peele is saying with this movie, including relating it to Jungian psychology, our current political climate, and seeing it as an indictment of Reagan-era social policies. I won’t tell you what I think, because part of the importance here is thinking through it yourself, but the movie is wide open to interpretation, and any one of the many theories could be true. Or, none of them could be true. Us works incredibly well just as a horror movie: it’s genuinely frightening and has images that will burn themselves into your brain. The movie’s not without its flaws—it’s not particularly internally consistent, and one twist was a bridge too far for me, but none of this detracts from the full experience, and besides, the best advice I got before heading to the theater was just not to think too hard about it. And though horror, as a genre, is shamefully overlooked when it comes to awards season, one exception for this movie may be Lupita Nyong’o, who has every chance at an Oscar nomination for Us. She’s extraordinary in her dual role as both the mother and her terrifying doppelganger, expressing resolve and vulnerability alongside searing homicidal anger and traumatic distress. Us is an intense, powerful, and unsettling ordeal that will not lead you by the hand to any conclusions, but will force you to take a very hard look at who we really are.'\n",
    "r4 = html.strip()\n",
    "print(r4)\n",
    "word_list = r4.split()\n",
    "num_words = len(word_list)\n",
    "print(num_words)\n",
    "mr.append(r4)\n",
    "print(len(mr))"
   ]
  },
  {
   "cell_type": "code",
   "execution_count": 9,
   "id": "0743fce5",
   "metadata": {},
   "outputs": [
    {
     "name": "stdout",
     "output_type": "stream",
     "text": [
      "Jordan Peele’s 2017 thriller Get Out turned one half of sketch comedy duo Key & Peele into one of Hollywood’s hottest filmmakers, earning the first-time director an Academy Award and prompting the inevitable question of how anyone could follow up on success on that level. So it’s with no small amount of anticipation — and high expectations — that Peele’s latest film, simply titled Us, arrives in theaters. Although it doesn’t pack the psychological punch that Get Out did, Us confirms that Peele’s phenomenally successful debut was no fluke — and that the praise he’s been given is indeed well deserved. Written, produced, and directed by Peele, Us follows a family whose beach vacation is interrupted one night by a vicious group of home invaders. The terror of the encounter is amplified by the discovery that the assailants are twisted versions of each member of the family — and they’re forced to fend off their murderous counterparts if they have any hope of surviving the night. Get Out initially showed Peele’s talent at not only casting the right actors, but drawing performances out of them that are full of surprises. His skill at assembling and utilizing a talented cast shines again in Us, which reunites Black Panther actors Lupita Nyong’o and Winston Duke as Adelaide and Gabe Wilson, a married couple on vacation with their son Jason and daughter Zora, played by Evan Alex and Shahadi Wright Joseph, respectively. All four of the primary cast members bring an impressive level of depth to characters that could have easily slipped into typically forgettable victim roles, pausing when they should be running, or screaming when they should be hiding. They’re a smart bunch, even when they make head-shakingly bad decisions that put them in peril, and their chemistry as a family unit goes a long way toward creating an emotional investment in their fates. Portraying both the victim and the villain in a story is a tall order for any actor, but the cast of Us makes it look effortless. The performances of the four leads as the Winston family members are impressive on their own, but Us reaches even higher by having the four actors also play their psychopathic duplicates. Portraying both the victim and the villain in a story is a tall order for any actor, but the cast of Us makes it look effortless, adding depth to both roles where appropriate and selling the audience on both the terrorized family’s strength of will and their mirror images’ remorseless, unpredictable deadly intent. Nyong’o in particular is fascinating to watch, and she goes above and beyond simple good and evil representation by giving each character their own, unique way of walking, talking, and carrying themselves. The extra effort that Nyong’o and her castmates put into their two-part performances pays off with some genuinely disturbing juxtapositions of the characters and their twins, who are eerily similar on the surface despite being completely different in every other way. Not everything about Us is a paired set, though — particularly when it comes to the film’s similarities (or lack thereof) with Get Out. Although Us confirms that Peele’s knack for horror wasn’t a one-trick act, those expecting a film that mines the same fright material as Get Out won’t find much in common with that film. Where Get Out relied heavily on psychological terrors and a creeping sense of dread in a relatively bloodless — right up until its third act, at least — mind-bending scary story, Us is a more straightforward horror film. The eerie mystery of the doppelgangers’ existence is secondary to the blunt terror of their home invasion and pursuit of the Wilson family, and there’s little question about exactly what kind of film Us really is. To Peele’s credit as a writer, he does an admirable job of streamlining the narrative to move past the story’s big questions in relatively quick, semi-satisfying ways, but his focus on making the film a more straightforward experience than Get Out could still leave some audiences wanting more answers when it comes to the more complicated plot points he introduces. Us is a slasher movie first and foremost, after all, even if it does have some narrative (and socially relevant) layers to unpack for audiences interested in going down that road. It’s not likely to receive the level of critical acclaim as its predecessor, but Us still manages to carve out an impressive niche for itself in the horror genre. Subversive, scary, and fantastically well acted, Us is the sort of film that can be enjoyed on one level as an entertaining, satisfying slasher film, while also offering something for audiences who want more than just a family being terrorized by a group of psychotic killers. What it occasionally lacks in satisfying answers, it more than makes up for in ambition and cinematic execution, thanks to the film’s talented cast and filmmaker. Us probably won’t bring Peele another Academy Award, but if the film’s intent is to be the sort of movie that sticks with you long after the credits roll, and that fuels a nightmare or two, it’s already a winner.\n",
      "858\n",
      "5\n"
     ]
    }
   ],
   "source": [
    "# positive\n",
    "html = 'Jordan Peele’s 2017 thriller Get Out turned one half of sketch comedy duo Key & Peele into one of Hollywood’s hottest filmmakers, earning the first-time director an Academy Award and prompting the inevitable question of how anyone could follow up on success on that level. So it’s with no small amount of anticipation — and high expectations — that Peele’s latest film, simply titled Us, arrives in theaters. Although it doesn’t pack the psychological punch that Get Out did, Us confirms that Peele’s phenomenally successful debut was no fluke — and that the praise he’s been given is indeed well deserved. Written, produced, and directed by Peele, Us follows a family whose beach vacation is interrupted one night by a vicious group of home invaders. The terror of the encounter is amplified by the discovery that the assailants are twisted versions of each member of the family — and they’re forced to fend off their murderous counterparts if they have any hope of surviving the night. Get Out initially showed Peele’s talent at not only casting the right actors, but drawing performances out of them that are full of surprises. His skill at assembling and utilizing a talented cast shines again in Us, which reunites Black Panther actors Lupita Nyong’o and Winston Duke as Adelaide and Gabe Wilson, a married couple on vacation with their son Jason and daughter Zora, played by Evan Alex and Shahadi Wright Joseph, respectively. All four of the primary cast members bring an impressive level of depth to characters that could have easily slipped into typically forgettable victim roles, pausing when they should be running, or screaming when they should be hiding. They’re a smart bunch, even when they make head-shakingly bad decisions that put them in peril, and their chemistry as a family unit goes a long way toward creating an emotional investment in their fates. Portraying both the victim and the villain in a story is a tall order for any actor, but the cast of Us makes it look effortless. The performances of the four leads as the Winston family members are impressive on their own, but Us reaches even higher by having the four actors also play their psychopathic duplicates. Portraying both the victim and the villain in a story is a tall order for any actor, but the cast of Us makes it look effortless, adding depth to both roles where appropriate and selling the audience on both the terrorized family’s strength of will and their mirror images’ remorseless, unpredictable deadly intent. Nyong’o in particular is fascinating to watch, and she goes above and beyond simple good and evil representation by giving each character their own, unique way of walking, talking, and carrying themselves. The extra effort that Nyong’o and her castmates put into their two-part performances pays off with some genuinely disturbing juxtapositions of the characters and their twins, who are eerily similar on the surface despite being completely different in every other way. Not everything about Us is a paired set, though — particularly when it comes to the film’s similarities (or lack thereof) with Get Out. Although Us confirms that Peele’s knack for horror wasn’t a one-trick act, those expecting a film that mines the same fright material as Get Out won’t find much in common with that film. Where Get Out relied heavily on psychological terrors and a creeping sense of dread in a relatively bloodless — right up until its third act, at least — mind-bending scary story, Us is a more straightforward horror film. The eerie mystery of the doppelgangers’ existence is secondary to the blunt terror of their home invasion and pursuit of the Wilson family, and there’s little question about exactly what kind of film Us really is. To Peele’s credit as a writer, he does an admirable job of streamlining the narrative to move past the story’s big questions in relatively quick, semi-satisfying ways, but his focus on making the film a more straightforward experience than Get Out could still leave some audiences wanting more answers when it comes to the more complicated plot points he introduces. Us is a slasher movie first and foremost, after all, even if it does have some narrative (and socially relevant) layers to unpack for audiences interested in going down that road. It’s not likely to receive the level of critical acclaim as its predecessor, but Us still manages to carve out an impressive niche for itself in the horror genre. Subversive, scary, and fantastically well acted, Us is the sort of film that can be enjoyed on one level as an entertaining, satisfying slasher film, while also offering something for audiences who want more than just a family being terrorized by a group of psychotic killers. What it occasionally lacks in satisfying answers, it more than makes up for in ambition and cinematic execution, thanks to the film’s talented cast and filmmaker. Us probably won’t bring Peele another Academy Award, but if the film’s intent is to be the sort of movie that sticks with you long after the credits roll, and that fuels a nightmare or two, it’s already a winner.'\n",
    "r5 = html.strip()\n",
    "print(r5)\n",
    "word_list = r5.split()\n",
    "num_words = len(word_list)\n",
    "print(num_words)\n",
    "mr.append(r5)\n",
    "print(len(mr))"
   ]
  },
  {
   "cell_type": "code",
   "execution_count": 10,
   "id": "98e178e9",
   "metadata": {},
   "outputs": [
    {
     "name": "stdout",
     "output_type": "stream",
     "text": [
      "They say lightning doesn’t strike twice, but sometimes it does with hit movies. Ridley Scott followed up his superb The Duellists – which won best first feature at the 1977 Cannes Film Festival – with seminal sci-fi hit Alien two years later, scoring a special effects Oscar for its chest-bursting menace. Quentin Tarantino topped Reservoir Dogs with Pulp Fiction. So I was pumped for Jordan Peele’s much-hyped sophomore feature Us about a family menaced by stab-happy doppelgangers, after his exhilarating, Oscar-winning debut Get Out smartly rewired the horror genre, lancing rampant racism and creeping white privilege. Sadly his flash of brilliance totally fizzles this time. A genuinely unnerving set up in a 1986 fairground totally gets the creak of terror lurking in these places, with a wide-eyed Madison Curry as a young girl attacked by her evil double after being lost in a funhouse mirror hall. Positing another clever metaphor, with Americans as their own worst enemy, Peele soon loses focus. Jumping to the present, a goofy but overlong section sets up Black Panther duo Lupita Nyong’o and Winston Duke as a married couple taking a break in their wood-surrounded holiday cabin (never a good idea in horror films) with their kids, played by Shahadi Wright Joseph and Evan Alex. Taking too long to get there, Peele flubs an oddly inert home invasion when the family’s maniacal scissor-wielding mirror images eventually show up. Basic jump scares abound, but there’s no real terror. We do get a much more brutal attack on the neighbours, including The Handmaid’s Tale’s Elisabeth Moss, but a re-run is a re-run. The film’s laborious pace is further hampered by Nyong’o’s bad reflection setting out their terms in the worst asthmatic wheezing committed to film since Tom Hardy’s much-memed Bane. Peele manages to bury the film in a turgid cement of tedious exposition while still leaving the basic world-building foundations decidedly wobbly. Get Out already joked about villains monologuing their dastardly plan. Pushing the same punchline here is just lazy. The patchy humour fares a bit better as the ‘good’ family gets increasingly violent in their fight back, but it’s so on the nose it literally references Home Alone. Yeah, we got it. Pop culture call-outs galore, including an iconic line ripped from the Star Wars saga, only serve to highlight the dearth of new ideas here. With Peele borrowing liberally from better films like The Shining, it ends up feeling like a tired rehash. Speaking of which, I’m not going to die and be resurrected on a hill claiming the probably unnecessary Pet Sematary reboot is a masterpiece, but it at least has more fun re-animating Stephen King’s zombie cat story with a zippier pace. Directed by Kevin Kölsch and Dennis Widmyer, the movie doesn’t give Jason Clarke quite enough space to really work the crazed grief of a father tortured by a devastating accident, but there’s just enough here to hurt. Tinkering with the tragic 1983 novel and the 1989 movie adaptation, it delivers a couple of surprises more welcome than un-dead family members at the door. Pet Sematary is out now, and Us is in cinemas from April 4.\n",
      "525\n",
      "6\n"
     ]
    }
   ],
   "source": [
    "# nagative\n",
    "html = 'They say lightning doesn’t strike twice, but sometimes it does with hit movies. Ridley Scott followed up his superb The Duellists – which won best first feature at the 1977 Cannes Film Festival – with seminal sci-fi hit Alien two years later, scoring a special effects Oscar for its chest-bursting menace. Quentin Tarantino topped Reservoir Dogs with Pulp Fiction. So I was pumped for Jordan Peele’s much-hyped sophomore feature Us about a family menaced by stab-happy doppelgangers, after his exhilarating, Oscar-winning debut Get Out smartly rewired the horror genre, lancing rampant racism and creeping white privilege. Sadly his flash of brilliance totally fizzles this time. A genuinely unnerving set up in a 1986 fairground totally gets the creak of terror lurking in these places, with a wide-eyed Madison Curry as a young girl attacked by her evil double after being lost in a funhouse mirror hall. Positing another clever metaphor, with Americans as their own worst enemy, Peele soon loses focus. Jumping to the present, a goofy but overlong section sets up Black Panther duo Lupita Nyong’o and Winston Duke as a married couple taking a break in their wood-surrounded holiday cabin (never a good idea in horror films) with their kids, played by Shahadi Wright Joseph and Evan Alex. Taking too long to get there, Peele flubs an oddly inert home invasion when the family’s maniacal scissor-wielding mirror images eventually show up. Basic jump scares abound, but there’s no real terror. We do get a much more brutal attack on the neighbours, including The Handmaid’s Tale’s Elisabeth Moss, but a re-run is a re-run. The film’s laborious pace is further hampered by Nyong’o’s bad reflection setting out their terms in the worst asthmatic wheezing committed to film since Tom Hardy’s much-memed Bane. Peele manages to bury the film in a turgid cement of tedious exposition while still leaving the basic world-building foundations decidedly wobbly. Get Out already joked about villains monologuing their dastardly plan. Pushing the same punchline here is just lazy. The patchy humour fares a bit better as the ‘good’ family gets increasingly violent in their fight back, but it’s so on the nose it literally references Home Alone. Yeah, we got it. Pop culture call-outs galore, including an iconic line ripped from the Star Wars saga, only serve to highlight the dearth of new ideas here. With Peele borrowing liberally from better films like The Shining, it ends up feeling like a tired rehash. Speaking of which, I’m not going to die and be resurrected on a hill claiming the probably unnecessary Pet Sematary reboot is a masterpiece, but it at least has more fun re-animating Stephen King’s zombie cat story with a zippier pace. Directed by Kevin Kölsch and Dennis Widmyer, the movie doesn’t give Jason Clarke quite enough space to really work the crazed grief of a father tortured by a devastating accident, but there’s just enough here to hurt. Tinkering with the tragic 1983 novel and the 1989 movie adaptation, it delivers a couple of surprises more welcome than un-dead family members at the door. Pet Sematary is out now, and Us is in cinemas from April 4.'\n",
    "r6 = html.strip()\n",
    "print(r6)\n",
    "word_list = r6.split()\n",
    "num_words = len(word_list)\n",
    "print(num_words)\n",
    "mr.append(r6)\n",
    "print(len(mr))"
   ]
  },
  {
   "cell_type": "code",
   "execution_count": 11,
   "id": "86535589",
   "metadata": {},
   "outputs": [
    {
     "name": "stdout",
     "output_type": "stream",
     "text": [
      "Is my own doppelgänger going to kill me if I don’t shower Jordan Peele’s latest with praise? Am I going to rack my brain with guilt for not loving a movie I’m straining to applaud? Or is something deep inside me going to make me, against my better judgment, evade the fact that Us (2019) is not a particularly good movie? It pains me to write this. The writer/director struck gold with Get Out two years ago and deservedly so, tinging each scene with social and emotional discomfort that passed for both abject horror and pitch-black comedy. It was a sterling effort that overflowed with ideas but never tried too hard and, in a choice more admirable in theory than actuality, Peele has decided not to replicate his previous success. His latest film makes it clear off the bat that this is not a satire or a bonafide social comment. Us is psychological horror in the vein of The Twilight Zone, something that Peele has aped in the past (and is even rebooting). And this works very well at first in how he, both as a writer and a director, approaches his craft with patience—no cheap scares, no silly gimmicks. With Mike Gioulakis (Under the Silver Lake) as cinematographer and a sleeker approach to both light and dark, it’s clear this movie is going to be something nicer to behold. But then it becomes just as clear that there’s far less beneath the surface. Like when most talented filmmakers stretch themselves in too many directions, Us is full of things that just don’t cohere. We start off in 1986 Santa Cruz where young Adelaide (Madison Curry) is on a birthday trip to an oceanside amusement park with her parents (Yahya Abdul-Mateen II and Anna Diop). It goes well enough for a while, but something takes over her. She wanders into a hall of mirrors where she sees her doppelgänger and, upon reemerging to Mom and Dad, seems to be suffering PTSD. Fast-forward to current day and Adelaide (now played by Lupita N’yongo) is headed on a vacation with her dorky husband Gabe (Winston Duke), daughter Zora (Shahadi Wright Joseph), and son Jason (Evan Alex). The lakeside house is nice and all, but Gabe wants to take the family to the ocean. Adelaide resists but gives in for the sake of the family and that night after returning home, they spot a family in the driveway. It’s all of their doppelgängers—seething, primal mirror versions of themselves who only seem to act on their ids. Unlike Get Out, though, Peele keeps this central conceit pretty close to the vest for a while. Us works best when it’s stylish, placing its characters on a literal coast against the unknown and capturing them with a visual style that feels on the verge of wrapping around itself. Inspirations are proud but never obvious ranging from The Shining to Night of the Living Dead to more comical revisionism like Shaun of the Dead. The film is never particularly scary past the first half or so, but it has the suspense needed to be fun. And then it decides to stretch its premise into full-on comedy. This isn’t inherently a bad thing, but Us plays both its psychological horror and slapstick comedy on full tilt to the point that respective sequences never mesh together. Some are admittedly funny, but Peele rarely finds the balance between this broad humor and the human core he sets up earlier. Scenes and set pieces begin to drag on for too long and, although they never become boring, they certainly wear thin, especially once you realize that they’re simple diversions from the themes Peele is trying to address. It’s an almost-two-hour movie that’s so frustratingly detached from itself that it falls short of coasting on its entertainment value. Peele’s script reverts to hodgepodge social commentary towards the end that, although alluded to at the beginning of the film, is neglected for long enough to deflate any true sense of tension. This is especially evident through family friends Kitty and Josh (Elisabeth Moss and Tim Heidecker), a boho-chic married couple whose own scenes never amount to anything beyond a few amusing gags. Once Us unveils its deeper intentions, it doesn’t enough prove to be that deep at all. Does it stay true to its genre-based promises? Sure, but it doesn’t bend them. It pigeonholes them into a mythology too half-baked to work and the twists, while decently executed, prove to miss as often as they hit. And yet I still couldn’t bring myself to entirely discredit Peele’s attempts here. I just wish they added up to something. Even if Us has deeper meanings—and it’s clear that it does, especially given how much it telegraphs them all—I wonder if I’d be paying as much attention to them if Jordan Peele wasn’t behind them. Us is currently available on Digital and arrives on 4K Ultra HD, Blu-ray, DVD and On Demand on June 18, 2019 from Universa Picture Home Entertainment. Special features on the releases include scene explorations [not available on the DVD], five featurettes exploring the films themes and providing behind-the-scenes looks at the production, deleted scenes, outtakes, and an extended version of the dance sequence.\n",
      "872\n",
      "7\n"
     ]
    }
   ],
   "source": [
    "# negative \n",
    "html = 'Is my own doppelgänger going to kill me if I don’t shower Jordan Peele’s latest with praise? Am I going to rack my brain with guilt for not loving a movie I’m straining to applaud? Or is something deep inside me going to make me, against my better judgment, evade the fact that Us (2019) is not a particularly good movie? It pains me to write this. The writer/director struck gold with Get Out two years ago and deservedly so, tinging each scene with social and emotional discomfort that passed for both abject horror and pitch-black comedy. It was a sterling effort that overflowed with ideas but never tried too hard and, in a choice more admirable in theory than actuality, Peele has decided not to replicate his previous success. His latest film makes it clear off the bat that this is not a satire or a bonafide social comment. Us is psychological horror in the vein of The Twilight Zone, something that Peele has aped in the past (and is even rebooting). And this works very well at first in how he, both as a writer and a director, approaches his craft with patience—no cheap scares, no silly gimmicks. With Mike Gioulakis (Under the Silver Lake) as cinematographer and a sleeker approach to both light and dark, it’s clear this movie is going to be something nicer to behold. But then it becomes just as clear that there’s far less beneath the surface. Like when most talented filmmakers stretch themselves in too many directions, Us is full of things that just don’t cohere. We start off in 1986 Santa Cruz where young Adelaide (Madison Curry) is on a birthday trip to an oceanside amusement park with her parents (Yahya Abdul-Mateen II and Anna Diop). It goes well enough for a while, but something takes over her. She wanders into a hall of mirrors where she sees her doppelgänger and, upon reemerging to Mom and Dad, seems to be suffering PTSD. Fast-forward to current day and Adelaide (now played by Lupita N’yongo) is headed on a vacation with her dorky husband Gabe (Winston Duke), daughter Zora (Shahadi Wright Joseph), and son Jason (Evan Alex). The lakeside house is nice and all, but Gabe wants to take the family to the ocean. Adelaide resists but gives in for the sake of the family and that night after returning home, they spot a family in the driveway. It’s all of their doppelgängers—seething, primal mirror versions of themselves who only seem to act on their ids. Unlike Get Out, though, Peele keeps this central conceit pretty close to the vest for a while. Us works best when it’s stylish, placing its characters on a literal coast against the unknown and capturing them with a visual style that feels on the verge of wrapping around itself. Inspirations are proud but never obvious ranging from The Shining to Night of the Living Dead to more comical revisionism like Shaun of the Dead. The film is never particularly scary past the first half or so, but it has the suspense needed to be fun. And then it decides to stretch its premise into full-on comedy. This isn’t inherently a bad thing, but Us plays both its psychological horror and slapstick comedy on full tilt to the point that respective sequences never mesh together. Some are admittedly funny, but Peele rarely finds the balance between this broad humor and the human core he sets up earlier. Scenes and set pieces begin to drag on for too long and, although they never become boring, they certainly wear thin, especially once you realize that they’re simple diversions from the themes Peele is trying to address. It’s an almost-two-hour movie that’s so frustratingly detached from itself that it falls short of coasting on its entertainment value. Peele’s script reverts to hodgepodge social commentary towards the end that, although alluded to at the beginning of the film, is neglected for long enough to deflate any true sense of tension. This is especially evident through family friends Kitty and Josh (Elisabeth Moss and Tim Heidecker), a boho-chic married couple whose own scenes never amount to anything beyond a few amusing gags. Once Us unveils its deeper intentions, it doesn’t enough prove to be that deep at all. Does it stay true to its genre-based promises? Sure, but it doesn’t bend them. It pigeonholes them into a mythology too half-baked to work and the twists, while decently executed, prove to miss as often as they hit. And yet I still couldn’t bring myself to entirely discredit Peele’s attempts here. I just wish they added up to something. Even if Us has deeper meanings—and it’s clear that it does, especially given how much it telegraphs them all—I wonder if I’d be paying as much attention to them if Jordan Peele wasn’t behind them. Us is currently available on Digital and arrives on 4K Ultra HD, Blu-ray, DVD and On Demand on June 18, 2019 from Universa Picture Home Entertainment. Special features on the releases include scene explorations [not available on the DVD], five featurettes exploring the films themes and providing behind-the-scenes looks at the production, deleted scenes, outtakes, and an extended version of the dance sequence.'\n",
    "r7 = html.strip()\n",
    "print(r7)\n",
    "word_list = r7.split()\n",
    "num_words = len(word_list)\n",
    "print(num_words)\n",
    "mr.append(r7)\n",
    "print(len(mr))"
   ]
  },
  {
   "cell_type": "code",
   "execution_count": 12,
   "id": "bb62561f",
   "metadata": {},
   "outputs": [
    {
     "name": "stdout",
     "output_type": "stream",
     "text": [
      "Few directorial debuts were as shattering as Jordan Peele’s Oscar-winning horror flick “Get Out” (2017), which not only won Best Original Screenplay, but should have won Best Picture (Rewriting Oscar History). It stands as a masterpiece of cultural significance and cinematic artistry, repaying on repeat viewings with enough double meanings to fill a film theory class. Thus, we get the eager anticipation and unrealistic expectations of “Us,” which again boasts powerful performances of tear-stained cheeks, stunning technical prowess with symbolic imagery and “sunken place” social satire. This time, however, its surface-level plot piles the “gory” on the allegory, straining its metaphors with logical inconsistencies beneath the twists. The story opens with Young Adelaide Wilson (Madison Curry) wandering off from her parents and suffering childhood trauma at a boardwalk fun house in Santa Cruz, California. Decades later, grown-up Adelaide (Lupita Nyong’o) and her husband Gabe (Winston Duke), take their kids, Zora (Shahadi Wright Joseph) and Jason (Evan Alex), on a return trip to Santa Cruz, but their family vacation turns chaotic when dangerous doppelgängers appear in their driveway. The dual personas provide a powerful stage for Nyong’o, who deserves Oscar consideration for Lead Actress six years after her Supporting Actress win for “12 Years a Slave” (2013). She essentially has to play two roles: one as a traumatized middle-class mother, one as a hoarse-throated shadow figure, but both with protective maternal instincts. You’ll instantly recall Daniel Kaluuya’s teacup hypnosis as Nyong’o keeps her eyes “Peeled” in bulging, teary terror. The same goes for Duke (“Black Panther”), who dons a Howard University sweatshirt and glasses to crack goofy dad jokes, then shifts to farsighted squints and primal moans as his shadow double. Most impressive are the child actors, as Joseph plays teenage innocence before shifting to a freaky frozen grin, and Alex playfully wears a plastic Halloween mask before shifting to his pyromaniac duplicate to wear a much creepier, canvas-style mask. Peele was inspired by the “Mirror Image” episode of “The Twilight Zone” (1960), which he is rebooting this spring. Cinephiles will also notice shades of Don Siegel’s “Invasion of the Body Snatchers” (1956), Michael Bay’s “The Island” (2005) and Charlie McDowell’s “The One I Love” (2014), which fittingly starred Elisabeth Moss (“Mad Men”) in a double role. She returns in “Us” with Tim Heidecker (“Tim & Eric Awesome Show, Great Job!”) as the wealthy parents of twins. Directing duplicates requires a carefully constructed dance of body doubles and over-the-shoulder trick shots — just ask Tatiana Maslany in BBC’s “Orphan Black” (2013) and J.K. Simmons in Starz’s “Counterpart” (2017). But it’s worth the challenge, as it provides endless possibilities for dynamic direction. In “Us,” Peele presents Nyong’o’s face pressed against her reflection in the cracking glass of a coffee table, a high-angle shot of the family on the beach with long shadows stretching across the sand, and the distorted images of funhouse mirrors. The latter-most is the most disturbing in a masterful opening boardwalk sequence, where Peele blends the whistling child danger of Fritz Lang’s “M” (1931) with the beach terror of “Jaws” (1975), right down to Jason wearing a “Jaws” T-shirt (Peele reportedly asked Spielberg for permission). The fact that Young Adelaide wears a Michael Jackson “Thriller” T-shirt is even creepier after the King of Pop’s pedophilia allegations in HBO’s “Leaving Neverland” (2019). Note the way that Peele constructs this sequence: (A) Young Adelaide’s face moves from light to dark (i.e. film noir), as she descends the stairs to the beach; (B) Lightning eerily flashes in the night sky in the distance; (C) An insert shot shows a candy apple abandoned in the sand as a few rain drops start to fall; (D) The rain lets loose in a downpour as Young Adelaide stands alone in the chiaroscuro-lit doorway of the fun house before plunging into a dark hellscape. The film’s next big set piece, the home invasion by the doppelgängers, is equally masterful, playing on the same fears of intrusion as “Night of the Living Dead” (1968), “The Evil Dead” (1981), “Scream” (1996), “Funny Games” (1997), “The Others” (2001), “The Strangers” (2008) and “The Purge” (2013). This is where you’ll clutch your date on the edge of your seat. And then, the film’s tone frustratingly starts to shift, becoming less of the slow-burn suspense we got in “Get Out” and more of the lowest-common-denominator schlock we’ve seen from zombies and vampires of monster movies past. Act 2 still offers moments of bloody delight and inspired choices, particularly a bubbly soundtrack that runs counterpoint to the grisly action, like Kubrick’s use of “Singin’ in the Rain” in “A Clockwork Orange” (1971). Here, it’s the Beach Boys’ “Good Vibrations,” which cuts to a hilarious Alexa joke that we refuse to spoil. Not only does the tone shift, the “rules of magic” slowly start to unravel with plot holes and logical inconsistencies that undermine the otherwise brilliant twists of Act 3. For instance, why do some dopplegangers move in unison with the humans (i.e. the son), while others are able to move freely? By the end, their exact origins remain sketchy even after the ultimate reveal. The entire construct feels half-baked and not fully formed. By the time we reach the White Swan vs. Black Swan ballerina showdown a la “Black Swan” (2010), we wish that Peele would have given the script another rewrite or two to flesh out the story logic. While “Get Out” sent us out of the theater in awe, many viewers will leave “Us” scratching their heads in confusion. Don’t worry, there are still plenty of Peele’s symbolic visual staples: reproductive rabbits, untethering scissors, the speedboat name “Craw Daddy,” toy ambulances and the numbers 11:11, including the time on digital clocks, an 11-11 baseball score and the mystery Bible verse Jeremiah 11:11: “Therefore thus saith the Lord, Behold, I will bring evil upon them, which they shall not be able to escape; and though they shall cry unto me, I will not hearken unto them.” This doom exists from the opening image of a TV set (i.e. “Poltergeist”) showing a 1986 “Hands Across America” commercial, which comes full circle in the closing image as a subversive analogy for President Donald Trump’s border wall. When the shadow family is asked their identity, they simply respond, “We are Americans.” Thus, the title “Us” should be read as “U.S.” This larger social commentary is timely, exposing the class divides of two parallel worlds, one of privilege, one of plight, unfolding in simultaneous realities. And yet, like Darren Aronofsky’s “mother!” (2017), the underlying metaphors never fully gel with the surface-level A-story plot, which is what “Get Out” did so well, marrying the surface ride with the hidden symbolic layers. “Us” is more of a straight slasher genre piece, for better or worse, but it’s no sophomore slump because it proves Peele’s vocabulary of consistent auteur trademarks. If we watched it before “Get Out,” the result might have impressed us as a lowbrow horror/comedy by one half of Key & Peele. But now that we’re watching it after the elevated experience of “Get Out,” there’s a slight air of disappointment selfishly crying out, “Another masterpiece please!” Alas, you can’t hit a home run every time. “Us” is still very much worth a watch — a genius firing on most cylinders is a better use of your time than lesser filmmakers at their best. Just expect a suspenseful, nightmarish, even puzzling ride with more questions than answers. I have a hunch audience scores are going to be more mixed than the critical raves thus far. What we have here is M. Night Shyamalan after his “Sixth Sense” breakthrough akin to “Get Out.” Plenty of juicy twists await, but can anything ever match it? Either way, it’s exciting to have a new auteur in the horror genre where we can’t wait to see what he does next.\n",
      "1311\n",
      "8\n"
     ]
    }
   ],
   "source": [
    "# negative\n",
    "html = 'Few directorial debuts were as shattering as Jordan Peele’s Oscar-winning horror flick “Get Out” (2017), which not only won Best Original Screenplay, but should have won Best Picture (Rewriting Oscar History). It stands as a masterpiece of cultural significance and cinematic artistry, repaying on repeat viewings with enough double meanings to fill a film theory class. Thus, we get the eager anticipation and unrealistic expectations of “Us,” which again boasts powerful performances of tear-stained cheeks, stunning technical prowess with symbolic imagery and “sunken place” social satire. This time, however, its surface-level plot piles the “gory” on the allegory, straining its metaphors with logical inconsistencies beneath the twists. The story opens with Young Adelaide Wilson (Madison Curry) wandering off from her parents and suffering childhood trauma at a boardwalk fun house in Santa Cruz, California. Decades later, grown-up Adelaide (Lupita Nyong’o) and her husband Gabe (Winston Duke), take their kids, Zora (Shahadi Wright Joseph) and Jason (Evan Alex), on a return trip to Santa Cruz, but their family vacation turns chaotic when dangerous doppelgängers appear in their driveway. The dual personas provide a powerful stage for Nyong’o, who deserves Oscar consideration for Lead Actress six years after her Supporting Actress win for “12 Years a Slave” (2013). She essentially has to play two roles: one as a traumatized middle-class mother, one as a hoarse-throated shadow figure, but both with protective maternal instincts. You’ll instantly recall Daniel Kaluuya’s teacup hypnosis as Nyong’o keeps her eyes “Peeled” in bulging, teary terror. The same goes for Duke (“Black Panther”), who dons a Howard University sweatshirt and glasses to crack goofy dad jokes, then shifts to farsighted squints and primal moans as his shadow double. Most impressive are the child actors, as Joseph plays teenage innocence before shifting to a freaky frozen grin, and Alex playfully wears a plastic Halloween mask before shifting to his pyromaniac duplicate to wear a much creepier, canvas-style mask. Peele was inspired by the “Mirror Image” episode of “The Twilight Zone” (1960), which he is rebooting this spring. Cinephiles will also notice shades of Don Siegel’s “Invasion of the Body Snatchers” (1956), Michael Bay’s “The Island” (2005) and Charlie McDowell’s “The One I Love” (2014), which fittingly starred Elisabeth Moss (“Mad Men”) in a double role. She returns in “Us” with Tim Heidecker (“Tim & Eric Awesome Show, Great Job!”) as the wealthy parents of twins. Directing duplicates requires a carefully constructed dance of body doubles and over-the-shoulder trick shots — just ask Tatiana Maslany in BBC’s “Orphan Black” (2013) and J.K. Simmons in Starz’s “Counterpart” (2017). But it’s worth the challenge, as it provides endless possibilities for dynamic direction. In “Us,” Peele presents Nyong’o’s face pressed against her reflection in the cracking glass of a coffee table, a high-angle shot of the family on the beach with long shadows stretching across the sand, and the distorted images of funhouse mirrors. The latter-most is the most disturbing in a masterful opening boardwalk sequence, where Peele blends the whistling child danger of Fritz Lang’s “M” (1931) with the beach terror of “Jaws” (1975), right down to Jason wearing a “Jaws” T-shirt (Peele reportedly asked Spielberg for permission). The fact that Young Adelaide wears a Michael Jackson “Thriller” T-shirt is even creepier after the King of Pop’s pedophilia allegations in HBO’s “Leaving Neverland” (2019). Note the way that Peele constructs this sequence: (A) Young Adelaide’s face moves from light to dark (i.e. film noir), as she descends the stairs to the beach; (B) Lightning eerily flashes in the night sky in the distance; (C) An insert shot shows a candy apple abandoned in the sand as a few rain drops start to fall; (D) The rain lets loose in a downpour as Young Adelaide stands alone in the chiaroscuro-lit doorway of the fun house before plunging into a dark hellscape. The film’s next big set piece, the home invasion by the doppelgängers, is equally masterful, playing on the same fears of intrusion as “Night of the Living Dead” (1968), “The Evil Dead” (1981), “Scream” (1996), “Funny Games” (1997), “The Others” (2001), “The Strangers” (2008) and “The Purge” (2013). This is where you’ll clutch your date on the edge of your seat. And then, the film’s tone frustratingly starts to shift, becoming less of the slow-burn suspense we got in “Get Out” and more of the lowest-common-denominator schlock we’ve seen from zombies and vampires of monster movies past. Act 2 still offers moments of bloody delight and inspired choices, particularly a bubbly soundtrack that runs counterpoint to the grisly action, like Kubrick’s use of “Singin’ in the Rain” in “A Clockwork Orange” (1971). Here, it’s the Beach Boys’ “Good Vibrations,” which cuts to a hilarious Alexa joke that we refuse to spoil. Not only does the tone shift, the “rules of magic” slowly start to unravel with plot holes and logical inconsistencies that undermine the otherwise brilliant twists of Act 3. For instance, why do some dopplegangers move in unison with the humans (i.e. the son), while others are able to move freely? By the end, their exact origins remain sketchy even after the ultimate reveal. The entire construct feels half-baked and not fully formed. By the time we reach the White Swan vs. Black Swan ballerina showdown a la “Black Swan” (2010), we wish that Peele would have given the script another rewrite or two to flesh out the story logic. While “Get Out” sent us out of the theater in awe, many viewers will leave “Us” scratching their heads in confusion. Don’t worry, there are still plenty of Peele’s symbolic visual staples: reproductive rabbits, untethering scissors, the speedboat name “Craw Daddy,” toy ambulances and the numbers 11:11, including the time on digital clocks, an 11-11 baseball score and the mystery Bible verse Jeremiah 11:11: “Therefore thus saith the Lord, Behold, I will bring evil upon them, which they shall not be able to escape; and though they shall cry unto me, I will not hearken unto them.” This doom exists from the opening image of a TV set (i.e. “Poltergeist”) showing a 1986 “Hands Across America” commercial, which comes full circle in the closing image as a subversive analogy for President Donald Trump’s border wall. When the shadow family is asked their identity, they simply respond, “We are Americans.” Thus, the title “Us” should be read as “U.S.” This larger social commentary is timely, exposing the class divides of two parallel worlds, one of privilege, one of plight, unfolding in simultaneous realities. And yet, like Darren Aronofsky’s “mother!” (2017), the underlying metaphors never fully gel with the surface-level A-story plot, which is what “Get Out” did so well, marrying the surface ride with the hidden symbolic layers. “Us” is more of a straight slasher genre piece, for better or worse, but it’s no sophomore slump because it proves Peele’s vocabulary of consistent auteur trademarks. If we watched it before “Get Out,” the result might have impressed us as a lowbrow horror/comedy by one half of Key & Peele. But now that we’re watching it after the elevated experience of “Get Out,” there’s a slight air of disappointment selfishly crying out, “Another masterpiece please!” Alas, you can’t hit a home run every time. “Us” is still very much worth a watch — a genius firing on most cylinders is a better use of your time than lesser filmmakers at their best. Just expect a suspenseful, nightmarish, even puzzling ride with more questions than answers. I have a hunch audience scores are going to be more mixed than the critical raves thus far. What we have here is M. Night Shyamalan after his “Sixth Sense” breakthrough akin to “Get Out.” Plenty of juicy twists await, but can anything ever match it? Either way, it’s exciting to have a new auteur in the horror genre where we can’t wait to see what he does next.'\n",
    "r8 = html.strip()\n",
    "print(r8)\n",
    "word_list = r8.split()\n",
    "num_words = len(word_list)\n",
    "print(num_words)\n",
    "mr.append(r8)\n",
    "print(len(mr))"
   ]
  },
  {
   "cell_type": "code",
   "execution_count": 13,
   "id": "b9cf47cd",
   "metadata": {},
   "outputs": [
    {
     "name": "stdout",
     "output_type": "stream",
     "text": [
      "Writer-director Jordan Peele’s 2017 Get Out was a brash and intriguing debut, a picture that wrestled with the notion of whether or not America can ever be a post-racial society: Vital and spooky, it refused to hand over easy answers. With the ambitious home-invasion horror chiller Us, Peele goes even deeper into the conflicted territory of class and race and privilege; he also ponders the traits that make us most human. But this time, he’s got so many ideas he can barely corral them, let alone connect them. He overthinks himself into a corner, and we’re stuck there with him. Lupita Nyong’o stars as Adelaide, who has overcome a traumatic childhood experience and now has a family of her own, including husband Gabe (Winston Duke) and two kids: graceful, well-adjusted Zora (Shahadi Wright Joseph) and the slightly more awkward Jason (Evan Alex), who wears a wolfman mask pushed up on his head as a kind of security blanket. We meet the comfortably middle-class Wilson family as they’re heading off on vacation to Santa Cruz, the site of Adelaide’s childhood ordeal. On their first night away, they look out and see a family of four, mute and stony echoes of themselves, standing in the driveway. From there, Peele unspools a story of “shadow” people, long forced to live underground but now streaming to the Earth’s surface to claim, violently, what they feel is rightfully theirs. The effectiveness of Us may depend on how little you know about it going in, so the spoiler-averse may wish to stop reading here. But it’s impossible to address any of the movie’s larger ideas without giving away key plot points: Before long, that shadow family has infiltrated the house, and now that we can get a good look, we see that each of them is a not-quite-right replica of a Wilson, dressed in a red jumpsuit and wielding a pair of menacing-looking shears. At one point a terrified Adelaide asks the other mother, a twin of herself but with vacant, crazy eyes and a demented smile, “What are you people?” “We are Americans,” the lookalike responds, in a whispery growl. That’s a bright, neon-lit Author’s Message if ever there was one, though the idea of using a group of sunlight-deprived semi-zombies as a metaphorical element in a parable about class complacency isn’t necessarily a bad one. Are you and your family doing great? Do you live in a nice place, drive an expensive car, and have plenty of food for everyone to eat? Be grateful for it. But be aware that there are others who, through no fault of their own, don’t live at the same comfort level—or are, in fact, barely surviving. (The Wilsons also have close friends, Josh and Kitty, played by Tim Heidecker and Elisabeth Moss, who have more money and nicer stuff than they do, a source of irritation for Gabe in particular, and another of the movie’s threads about class consciousness in America.) But Peele doesn’t always lay out his ideas clearly. Us isn’t always fun to watch; there are stretches where it’s plodding and dour. He’s overly fond of heavy-duty references, including Biblical ones: A creepy dude holds a sign that reads Jeremiah 11:11. (If you don’t know it outright, it’s the one that goes, “Therefore thus saith the Lord, Behold, I will bring evil upon them, which they shall not be able to escape; and though they shall cry unto me, I will not hearken unto them.”) The mood of Us is sometimes chilling, but even then, you’re not always sure what, exactly, is chilling you. Maybe it’s just the feeling of being trapped in an over-air-conditioned lecture hall, because there’s a strain of preachiness running through the whole thing. One thing that’s unquestionable: Peele is a dazzling visual stylist. (Peele’s cinematographer is Mike Gioulakis, who also shot David Robert Mitchell’s It Follows, as well as M. Night Shyamalan’s Split and Glass.) The movie’s opening, which details young Adelaide’s nightmare—it takes place in a ghoulish hall of mirrors on the Santa Cruz boardwalk—is a mini-horror masterpiece by itself, an evocation of the outright weirdness of childhood rather than its wonder: As the girl wanders away from her parents, in an almost trancelike state, she clutches a candied apple so shiny it’s like blood-red crystal ball—and puts us in a trance, too. Yet the rest of Us is laden with metaphors, and they pile up so quickly that not even Peele can keep up with them. The movie repeatedly references Hands Across America, a 1986 benefit event in which some 6.5 million people joined hands along a route mapped out across the contiguous United States. (Many participants had donated $10 to reserve a space in the chain; the money was donated to local charities dedicated to fighting hunger and ending poverty.) In Us, the shadow people form a similar chain. But it’s hard to know what Peele is trying to say with that image. Are the semi-zombies of Us just less fortunate versions of us? Are they actually us and we don’t know it? Is their clumsy anger somehow superior to thought and reason? After all, it has unified them, while we aboveground humans are more divided than ever. How, in the end, are we supposed to feel about these shadow people, for so long deprived of basic human rights—including daylight—that they have become murderous clones? Sometimes great movies are ambiguous, but ambiguity resulting from unclear thinking makes nothing great. It’s one thing for a movie to humble you by leaving you unsure about yourself and your place in the world; it’s another for it to leave you wondering what, exactly, a filmmaker is trying to use his formidable verbal and visual vocabulary to say.\n",
      "956\n",
      "9\n"
     ]
    }
   ],
   "source": [
    "# negative\n",
    "html = 'Writer-director Jordan Peele’s 2017 Get Out was a brash and intriguing debut, a picture that wrestled with the notion of whether or not America can ever be a post-racial society: Vital and spooky, it refused to hand over easy answers. With the ambitious home-invasion horror chiller Us, Peele goes even deeper into the conflicted territory of class and race and privilege; he also ponders the traits that make us most human. But this time, he’s got so many ideas he can barely corral them, let alone connect them. He overthinks himself into a corner, and we’re stuck there with him. Lupita Nyong’o stars as Adelaide, who has overcome a traumatic childhood experience and now has a family of her own, including husband Gabe (Winston Duke) and two kids: graceful, well-adjusted Zora (Shahadi Wright Joseph) and the slightly more awkward Jason (Evan Alex), who wears a wolfman mask pushed up on his head as a kind of security blanket. We meet the comfortably middle-class Wilson family as they’re heading off on vacation to Santa Cruz, the site of Adelaide’s childhood ordeal. On their first night away, they look out and see a family of four, mute and stony echoes of themselves, standing in the driveway. From there, Peele unspools a story of “shadow” people, long forced to live underground but now streaming to the Earth’s surface to claim, violently, what they feel is rightfully theirs. The effectiveness of Us may depend on how little you know about it going in, so the spoiler-averse may wish to stop reading here. But it’s impossible to address any of the movie’s larger ideas without giving away key plot points: Before long, that shadow family has infiltrated the house, and now that we can get a good look, we see that each of them is a not-quite-right replica of a Wilson, dressed in a red jumpsuit and wielding a pair of menacing-looking shears. At one point a terrified Adelaide asks the other mother, a twin of herself but with vacant, crazy eyes and a demented smile, “What are you people?” “We are Americans,” the lookalike responds, in a whispery growl. That’s a bright, neon-lit Author’s Message if ever there was one, though the idea of using a group of sunlight-deprived semi-zombies as a metaphorical element in a parable about class complacency isn’t necessarily a bad one. Are you and your family doing great? Do you live in a nice place, drive an expensive car, and have plenty of food for everyone to eat? Be grateful for it. But be aware that there are others who, through no fault of their own, don’t live at the same comfort level—or are, in fact, barely surviving. (The Wilsons also have close friends, Josh and Kitty, played by Tim Heidecker and Elisabeth Moss, who have more money and nicer stuff than they do, a source of irritation for Gabe in particular, and another of the movie’s threads about class consciousness in America.) But Peele doesn’t always lay out his ideas clearly. Us isn’t always fun to watch; there are stretches where it’s plodding and dour. He’s overly fond of heavy-duty references, including Biblical ones: A creepy dude holds a sign that reads Jeremiah 11:11. (If you don’t know it outright, it’s the one that goes, “Therefore thus saith the Lord, Behold, I will bring evil upon them, which they shall not be able to escape; and though they shall cry unto me, I will not hearken unto them.”) The mood of Us is sometimes chilling, but even then, you’re not always sure what, exactly, is chilling you. Maybe it’s just the feeling of being trapped in an over-air-conditioned lecture hall, because there’s a strain of preachiness running through the whole thing. One thing that’s unquestionable: Peele is a dazzling visual stylist. (Peele’s cinematographer is Mike Gioulakis, who also shot David Robert Mitchell’s It Follows, as well as M. Night Shyamalan’s Split and Glass.) The movie’s opening, which details young Adelaide’s nightmare—it takes place in a ghoulish hall of mirrors on the Santa Cruz boardwalk—is a mini-horror masterpiece by itself, an evocation of the outright weirdness of childhood rather than its wonder: As the girl wanders away from her parents, in an almost trancelike state, she clutches a candied apple so shiny it’s like blood-red crystal ball—and puts us in a trance, too. Yet the rest of Us is laden with metaphors, and they pile up so quickly that not even Peele can keep up with them. The movie repeatedly references Hands Across America, a 1986 benefit event in which some 6.5 million people joined hands along a route mapped out across the contiguous United States. (Many participants had donated $10 to reserve a space in the chain; the money was donated to local charities dedicated to fighting hunger and ending poverty.) In Us, the shadow people form a similar chain. But it’s hard to know what Peele is trying to say with that image. Are the semi-zombies of Us just less fortunate versions of us? Are they actually us and we don’t know it? Is their clumsy anger somehow superior to thought and reason? After all, it has unified them, while we aboveground humans are more divided than ever. How, in the end, are we supposed to feel about these shadow people, for so long deprived of basic human rights—including daylight—that they have become murderous clones? Sometimes great movies are ambiguous, but ambiguity resulting from unclear thinking makes nothing great. It’s one thing for a movie to humble you by leaving you unsure about yourself and your place in the world; it’s another for it to leave you wondering what, exactly, a filmmaker is trying to use his formidable verbal and visual vocabulary to say.'\n",
    "r9 = html.strip()\n",
    "print(r9)\n",
    "word_list = r9.split()\n",
    "num_words = len(word_list)\n",
    "print(num_words)\n",
    "mr.append(r9)\n",
    "print(len(mr))"
   ]
  },
  {
   "cell_type": "code",
   "execution_count": 14,
   "id": "6b6f5b7c",
   "metadata": {},
   "outputs": [
    {
     "name": "stdout",
     "output_type": "stream",
     "text": [
      "I would love to be able to say that Jordan Peele’s Us is a worthy follow-up to his fantastic directorial debut Get Out, but I’m afraid I just can’t. After a genuinely creepy first half, the film very quickly devolves into tedium and over-explanation. It feels directionless, as though Peele created a fantastic horror scenario that he didn’t know what to do with. As such, the film plods along, repeating the same beats over and over, until Peele decides somewhat arbitrarily to just get it over with. The story involves a family vacationing at their summer home in Santa Cruz. Endearingly-clueless father, Gabe (Winston Duke), attempts to connect with his kids, Zora (Shahadi Wright Joseph) and Jason (Evan Alex), while his wife, Adelaide (Lupita Nyong’o), becomes increasingly agitated. She has a traumatic history with the nearby beach boardwalk and doesn’t want her own children to be hurt, as well. Things quickly spiral out of control, though, as their home is invaded by another family that looks exactly like them. It is during these moments – as the family is coming to grips with the surreal situation they’re in – that the film excels. Peele shows himself more than capable of ratcheting up the tension until we just can’t take it anymore. However, as he starts to widen the scope of the story, more explanation is needed to make sense of these strange goings-on. Peele does try to keep things interesting with the occasional action set piece, but it all begins to feel perfunctory and repetitive. Eventually, I found myself losing interest to the point that I genuinely no longer cared about what I was watching. The actors are not to blame here. Every member of the cast is quite capable, though I do wish that many of them were given more to do. We get a general idea of who the kids are, but we never truly feel like we know them. And Gabe isn’t really explored beyond the superficial “dorky dad” archetype. It is only the character of Adelaide that we are allowed to get to know, and Lupita Nyong’o perfectly captures the character’s strength and emotional fragility. She is palpably frightened throughout the film, yet is able to muster up a very realistic courage that never denies that fear, but simply fights through it. Adelaide is an interesting character, and Nyong’o’s performance carries the film. With such a game cast and haunting tone, I just wish that the film had amounted to more. Being confronted with one’s own doppelgänger is a tried-and-true horror premise, and a deeply effective one, because it invites the audience to examine the darker aspects of itself. But it has to remain an intimate affair, lest it become impersonal and generic. Sadly, by broadening the story, it becomes less specific to these characters and their issues and begins to feel more like the director is pontificating, actively rejecting story in favor of theme.  It is possible to make such choices work, but I don’t think Peele quite knows how yet. Horror is a tricky genre, which can allow a filmmaker to explore all manner of cultural, psychological, and political themes. But it needs to be balanced just right, or else key elements get lost. And I think Us loses its sense of urgency the bigger it gets. Peele seems to realize this, and he decides to bring the story back to Adelaide as she grapples with her traumatic past. It’s a smart move, but one that is undercut by a reveal that is lifted straight out of Treehouse of Horror on The Simpsons, and made all the more eye-rolling because it is in no way a surprise. While Nyong’o does her best to give this moment weight, she can’t quite overcome the inherent shrug of such a non-revelation. This isn’t to say that Us is totally irredeemable. There is plenty of style and mood to suggest that Jordan Peele continues to have a bright future as a filmmaker. Unfortunately, when comparing this film to his stellar debut, I’m not quite as excited for his next film as I was for this one, and that bright future has begun to dim ever so slightly.\n",
      "699\n",
      "10\n"
     ]
    }
   ],
   "source": [
    "# negative\n",
    "html = 'I would love to be able to say that Jordan Peele’s Us is a worthy follow-up to his fantastic directorial debut Get Out, but I’m afraid I just can’t. After a genuinely creepy first half, the film very quickly devolves into tedium and over-explanation. It feels directionless, as though Peele created a fantastic horror scenario that he didn’t know what to do with. As such, the film plods along, repeating the same beats over and over, until Peele decides somewhat arbitrarily to just get it over with. The story involves a family vacationing at their summer home in Santa Cruz. Endearingly-clueless father, Gabe (Winston Duke), attempts to connect with his kids, Zora (Shahadi Wright Joseph) and Jason (Evan Alex), while his wife, Adelaide (Lupita Nyong’o), becomes increasingly agitated. She has a traumatic history with the nearby beach boardwalk and doesn’t want her own children to be hurt, as well. Things quickly spiral out of control, though, as their home is invaded by another family that looks exactly like them. It is during these moments – as the family is coming to grips with the surreal situation they’re in – that the film excels. Peele shows himself more than capable of ratcheting up the tension until we just can’t take it anymore. However, as he starts to widen the scope of the story, more explanation is needed to make sense of these strange goings-on. Peele does try to keep things interesting with the occasional action set piece, but it all begins to feel perfunctory and repetitive. Eventually, I found myself losing interest to the point that I genuinely no longer cared about what I was watching. The actors are not to blame here. Every member of the cast is quite capable, though I do wish that many of them were given more to do. We get a general idea of who the kids are, but we never truly feel like we know them. And Gabe isn’t really explored beyond the superficial “dorky dad” archetype. It is only the character of Adelaide that we are allowed to get to know, and Lupita Nyong’o perfectly captures the character’s strength and emotional fragility. She is palpably frightened throughout the film, yet is able to muster up a very realistic courage that never denies that fear, but simply fights through it. Adelaide is an interesting character, and Nyong’o’s performance carries the film. With such a game cast and haunting tone, I just wish that the film had amounted to more. Being confronted with one’s own doppelgänger is a tried-and-true horror premise, and a deeply effective one, because it invites the audience to examine the darker aspects of itself. But it has to remain an intimate affair, lest it become impersonal and generic. Sadly, by broadening the story, it becomes less specific to these characters and their issues and begins to feel more like the director is pontificating, actively rejecting story in favor of theme.  It is possible to make such choices work, but I don’t think Peele quite knows how yet. Horror is a tricky genre, which can allow a filmmaker to explore all manner of cultural, psychological, and political themes. But it needs to be balanced just right, or else key elements get lost. And I think Us loses its sense of urgency the bigger it gets. Peele seems to realize this, and he decides to bring the story back to Adelaide as she grapples with her traumatic past. It’s a smart move, but one that is undercut by a reveal that is lifted straight out of Treehouse of Horror on The Simpsons, and made all the more eye-rolling because it is in no way a surprise. While Nyong’o does her best to give this moment weight, she can’t quite overcome the inherent shrug of such a non-revelation. This isn’t to say that Us is totally irredeemable. There is plenty of style and mood to suggest that Jordan Peele continues to have a bright future as a filmmaker. Unfortunately, when comparing this film to his stellar debut, I’m not quite as excited for his next film as I was for this one, and that bright future has begun to dim ever so slightly.'\n",
    "r10 = html.strip()\n",
    "print(r10)\n",
    "word_list = r10.split()\n",
    "num_words = len(word_list)\n",
    "print(num_words)\n",
    "mr.append(r10)\n",
    "print(len(mr))"
   ]
  },
  {
   "cell_type": "code",
   "execution_count": 15,
   "id": "219a090e",
   "metadata": {},
   "outputs": [],
   "source": [
    "movieReviews = {'FileName': ['HLU_Doc1_US', 'HLU_Doc2_US', 'HLU_Doc3_US', \\\n",
    "                           'HLU_Doc4_US', 'HLU_Doc5_US', 'HLU_Doc6_US', \\\n",
    "                           'HLU_Doc7_US', 'HLU_Doc8_US', 'HLU_Doc9_US', \\\n",
    "                           'HLU_Doc1_US'], \\\n",
    "               'MovieReview': mr}"
   ]
  },
  {
   "cell_type": "code",
   "execution_count": 16,
   "id": "fee1d2db",
   "metadata": {},
   "outputs": [],
   "source": [
    "metaData = {'FileName': ['HLU_Doc1_US', 'HLU_Doc2_US', 'HLU_Doc3_US', \\\n",
    "                           'HLU_Doc4_US', 'HLU_Doc5_US', 'HLU_Doc6_US', \\\n",
    "                           'HLU_Doc7_US', 'HLU_Doc8_US', 'HLU_Doc9_US', \\\n",
    "                           'HLU_Doc10_US'], \\\n",
    "           'StudentName':  ['HLU', 'HLU', 'HLU', 'HLU', 'HLU', 'HLU', 'HLU', 'HLU', 'HLU', 'HLU'], \n",
    "            'Genre': ['Horror', 'Horror', 'Horror', 'Horror', 'Horror', 'Horror', 'Horror', 'Horror', \\\n",
    "                      'Horror', 'Horror'],\n",
    "            'ReviewType': ['Positive', 'Positive', 'Positive', 'Positive', 'Positive', \\\n",
    "                          'Negative', 'Negative', 'Negative', 'Negative', 'Negative'],\n",
    "            'MovieTitle':  ['US', 'US', 'US', 'US', \\\n",
    "                            'US', 'US', 'US', 'US', \\\n",
    "                            'US', 'US'], \\\n",
    "           }"
   ]
  },
  {
   "cell_type": "code",
   "execution_count": 17,
   "id": "61490ce7",
   "metadata": {},
   "outputs": [
    {
     "data": {
      "text/html": [
       "<div>\n",
       "<style scoped>\n",
       "    .dataframe tbody tr th:only-of-type {\n",
       "        vertical-align: middle;\n",
       "    }\n",
       "\n",
       "    .dataframe tbody tr th {\n",
       "        vertical-align: top;\n",
       "    }\n",
       "\n",
       "    .dataframe thead th {\n",
       "        text-align: right;\n",
       "    }\n",
       "</style>\n",
       "<table border=\"1\" class=\"dataframe\">\n",
       "  <thead>\n",
       "    <tr style=\"text-align: right;\">\n",
       "      <th></th>\n",
       "      <th>FileName</th>\n",
       "      <th>MovieReview</th>\n",
       "    </tr>\n",
       "  </thead>\n",
       "  <tbody>\n",
       "    <tr>\n",
       "      <th>0</th>\n",
       "      <td>HLU_Doc1_US</td>\n",
       "      <td>For those of you uninterested in a deep dive i...</td>\n",
       "    </tr>\n",
       "    <tr>\n",
       "      <th>1</th>\n",
       "      <td>HLU_Doc2_US</td>\n",
       "      <td>Lupita Nyong’o stars in Jordan Peele’s newest ...</td>\n",
       "    </tr>\n",
       "    <tr>\n",
       "      <th>2</th>\n",
       "      <td>HLU_Doc3_US</td>\n",
       "      <td>An idyllic vacation turns into a living nightm...</td>\n",
       "    </tr>\n",
       "    <tr>\n",
       "      <th>3</th>\n",
       "      <td>HLU_Doc4_US</td>\n",
       "      <td>We can probably all agree that looking at your...</td>\n",
       "    </tr>\n",
       "    <tr>\n",
       "      <th>4</th>\n",
       "      <td>HLU_Doc5_US</td>\n",
       "      <td>Jordan Peele’s 2017 thriller Get Out turned on...</td>\n",
       "    </tr>\n",
       "    <tr>\n",
       "      <th>5</th>\n",
       "      <td>HLU_Doc6_US</td>\n",
       "      <td>They say lightning doesn’t strike twice, but s...</td>\n",
       "    </tr>\n",
       "    <tr>\n",
       "      <th>6</th>\n",
       "      <td>HLU_Doc7_US</td>\n",
       "      <td>Is my own doppelgänger going to kill me if I d...</td>\n",
       "    </tr>\n",
       "    <tr>\n",
       "      <th>7</th>\n",
       "      <td>HLU_Doc8_US</td>\n",
       "      <td>Few directorial debuts were as shattering as J...</td>\n",
       "    </tr>\n",
       "    <tr>\n",
       "      <th>8</th>\n",
       "      <td>HLU_Doc9_US</td>\n",
       "      <td>Writer-director Jordan Peele’s 2017 Get Out wa...</td>\n",
       "    </tr>\n",
       "    <tr>\n",
       "      <th>9</th>\n",
       "      <td>HLU_Doc1_US</td>\n",
       "      <td>I would love to be able to say that Jordan Pee...</td>\n",
       "    </tr>\n",
       "  </tbody>\n",
       "</table>\n",
       "</div>"
      ],
      "text/plain": [
       "      FileName                                        MovieReview\n",
       "0  HLU_Doc1_US  For those of you uninterested in a deep dive i...\n",
       "1  HLU_Doc2_US  Lupita Nyong’o stars in Jordan Peele’s newest ...\n",
       "2  HLU_Doc3_US  An idyllic vacation turns into a living nightm...\n",
       "3  HLU_Doc4_US  We can probably all agree that looking at your...\n",
       "4  HLU_Doc5_US  Jordan Peele’s 2017 thriller Get Out turned on...\n",
       "5  HLU_Doc6_US  They say lightning doesn’t strike twice, but s...\n",
       "6  HLU_Doc7_US  Is my own doppelgänger going to kill me if I d...\n",
       "7  HLU_Doc8_US  Few directorial debuts were as shattering as J...\n",
       "8  HLU_Doc9_US  Writer-director Jordan Peele’s 2017 Get Out wa...\n",
       "9  HLU_Doc1_US  I would love to be able to say that Jordan Pee..."
      ]
     },
     "execution_count": 17,
     "metadata": {},
     "output_type": "execute_result"
    }
   ],
   "source": [
    "movieReviewdf = pd.DataFrame(data=movieReviews)\n",
    "movieReviewdf"
   ]
  },
  {
   "cell_type": "code",
   "execution_count": 18,
   "id": "5ad9fb87",
   "metadata": {},
   "outputs": [
    {
     "data": {
      "text/html": [
       "<div>\n",
       "<style scoped>\n",
       "    .dataframe tbody tr th:only-of-type {\n",
       "        vertical-align: middle;\n",
       "    }\n",
       "\n",
       "    .dataframe tbody tr th {\n",
       "        vertical-align: top;\n",
       "    }\n",
       "\n",
       "    .dataframe thead th {\n",
       "        text-align: right;\n",
       "    }\n",
       "</style>\n",
       "<table border=\"1\" class=\"dataframe\">\n",
       "  <thead>\n",
       "    <tr style=\"text-align: right;\">\n",
       "      <th></th>\n",
       "      <th>FileName</th>\n",
       "      <th>StudentName</th>\n",
       "      <th>Genre</th>\n",
       "      <th>ReviewType</th>\n",
       "      <th>MovieTitle</th>\n",
       "    </tr>\n",
       "  </thead>\n",
       "  <tbody>\n",
       "    <tr>\n",
       "      <th>0</th>\n",
       "      <td>HLU_Doc1_US</td>\n",
       "      <td>HLU</td>\n",
       "      <td>Horror</td>\n",
       "      <td>Positive</td>\n",
       "      <td>US</td>\n",
       "    </tr>\n",
       "    <tr>\n",
       "      <th>1</th>\n",
       "      <td>HLU_Doc2_US</td>\n",
       "      <td>HLU</td>\n",
       "      <td>Horror</td>\n",
       "      <td>Positive</td>\n",
       "      <td>US</td>\n",
       "    </tr>\n",
       "    <tr>\n",
       "      <th>2</th>\n",
       "      <td>HLU_Doc3_US</td>\n",
       "      <td>HLU</td>\n",
       "      <td>Horror</td>\n",
       "      <td>Positive</td>\n",
       "      <td>US</td>\n",
       "    </tr>\n",
       "    <tr>\n",
       "      <th>3</th>\n",
       "      <td>HLU_Doc4_US</td>\n",
       "      <td>HLU</td>\n",
       "      <td>Horror</td>\n",
       "      <td>Positive</td>\n",
       "      <td>US</td>\n",
       "    </tr>\n",
       "    <tr>\n",
       "      <th>4</th>\n",
       "      <td>HLU_Doc5_US</td>\n",
       "      <td>HLU</td>\n",
       "      <td>Horror</td>\n",
       "      <td>Positive</td>\n",
       "      <td>US</td>\n",
       "    </tr>\n",
       "    <tr>\n",
       "      <th>5</th>\n",
       "      <td>HLU_Doc6_US</td>\n",
       "      <td>HLU</td>\n",
       "      <td>Horror</td>\n",
       "      <td>Negative</td>\n",
       "      <td>US</td>\n",
       "    </tr>\n",
       "    <tr>\n",
       "      <th>6</th>\n",
       "      <td>HLU_Doc7_US</td>\n",
       "      <td>HLU</td>\n",
       "      <td>Horror</td>\n",
       "      <td>Negative</td>\n",
       "      <td>US</td>\n",
       "    </tr>\n",
       "    <tr>\n",
       "      <th>7</th>\n",
       "      <td>HLU_Doc8_US</td>\n",
       "      <td>HLU</td>\n",
       "      <td>Horror</td>\n",
       "      <td>Negative</td>\n",
       "      <td>US</td>\n",
       "    </tr>\n",
       "    <tr>\n",
       "      <th>8</th>\n",
       "      <td>HLU_Doc9_US</td>\n",
       "      <td>HLU</td>\n",
       "      <td>Horror</td>\n",
       "      <td>Negative</td>\n",
       "      <td>US</td>\n",
       "    </tr>\n",
       "    <tr>\n",
       "      <th>9</th>\n",
       "      <td>HLU_Doc10_US</td>\n",
       "      <td>HLU</td>\n",
       "      <td>Horror</td>\n",
       "      <td>Negative</td>\n",
       "      <td>US</td>\n",
       "    </tr>\n",
       "  </tbody>\n",
       "</table>\n",
       "</div>"
      ],
      "text/plain": [
       "       FileName StudentName   Genre ReviewType MovieTitle\n",
       "0   HLU_Doc1_US         HLU  Horror   Positive         US\n",
       "1   HLU_Doc2_US         HLU  Horror   Positive         US\n",
       "2   HLU_Doc3_US         HLU  Horror   Positive         US\n",
       "3   HLU_Doc4_US         HLU  Horror   Positive         US\n",
       "4   HLU_Doc5_US         HLU  Horror   Positive         US\n",
       "5   HLU_Doc6_US         HLU  Horror   Negative         US\n",
       "6   HLU_Doc7_US         HLU  Horror   Negative         US\n",
       "7   HLU_Doc8_US         HLU  Horror   Negative         US\n",
       "8   HLU_Doc9_US         HLU  Horror   Negative         US\n",
       "9  HLU_Doc10_US         HLU  Horror   Negative         US"
      ]
     },
     "execution_count": 18,
     "metadata": {},
     "output_type": "execute_result"
    }
   ],
   "source": [
    "metaDatadf = pd.DataFrame(data=metaData)\n",
    "metaDatadf"
   ]
  },
  {
   "cell_type": "code",
   "execution_count": 19,
   "id": "86b098de",
   "metadata": {},
   "outputs": [],
   "source": [
    "reviewsOut = r'HLU_MovieReviews.csv'"
   ]
  },
  {
   "cell_type": "code",
   "execution_count": 20,
   "id": "c103044f",
   "metadata": {},
   "outputs": [],
   "source": [
    "movieReviewdf.to_csv(reviewsOut, index=False)"
   ]
  },
  {
   "cell_type": "code",
   "execution_count": 21,
   "id": "3352c1fb",
   "metadata": {},
   "outputs": [],
   "source": [
    "reviewMetaOut = r'HLU_MetaData.csv'"
   ]
  },
  {
   "cell_type": "code",
   "execution_count": 22,
   "id": "8474755b",
   "metadata": {},
   "outputs": [],
   "source": [
    "metaDatadf.to_csv(reviewMetaOut, index=False)"
   ]
  }
 ],
 "metadata": {
  "kernelspec": {
   "display_name": "Python 3",
   "language": "python",
   "name": "python3"
  },
  "language_info": {
   "codemirror_mode": {
    "name": "ipython",
    "version": 3
   },
   "file_extension": ".py",
   "mimetype": "text/x-python",
   "name": "python",
   "nbconvert_exporter": "python",
   "pygments_lexer": "ipython3",
   "version": "3.8.8"
  }
 },
 "nbformat": 4,
 "nbformat_minor": 5
}
